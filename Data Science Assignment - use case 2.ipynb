{
 "cells": [
  {
   "cell_type": "markdown",
   "metadata": {},
   "source": [
    "<h1 align=\"left\"> Use case: Social </h1>"
   ]
  },
  {
   "cell_type": "markdown",
   "metadata": {},
   "source": [
    "The objective of this assignment is to evaluate the candidate's technical skills and their approach to a Data Science problem. Specifically, the task is to **identify** and **characterize** *N* types of people who answered an interview.\n",
    "\n",
    "**Dataset:**\n",
    "\n",
    "Inside the **data** folder, you will find the social.txt file, which contains all the variables described below. \n",
    "\n",
    "**Assignment:**\n",
    "\n",
    "The request of this assignment is to build an unsupervised model with satisfactory performance, demonstrating all the typical steps that should be addressed in a Data Science project: from data cleaning and preparation to testing the performance of the constructed model.\n",
    "\n",
    "The completed notebook should be properly commented and should be delivered through sharing a personal accessible GitHub repository that allows for its reproduction."
   ]
  },
  {
   "cell_type": "markdown",
   "metadata": {},
   "source": [
    "### Dataset name: *social.txt*\n",
    "\n",
    "Variables:\n",
    "- There are 20 variables that indicate the personality characteristics of the respondents. The responses ranged from 1 to 6, but in this case they have already been standardized.\n",
    "- **gender**: gender of the respondents\n",
    "    - 0: MALE\n",
    "    - 1: FEMALE\n",
    "- **education**: high education level of the respondents\n",
    "    - 0: No Master's or equivalent\n",
    "    - 1: at least Master's or equivalent level\n",
    "- **age**: age of the respondents"
   ]
  },
  {
   "cell_type": "code",
   "execution_count": null,
   "metadata": {},
   "outputs": [],
   "source": []
  }
 ],
 "metadata": {
  "kernelspec": {
   "display_name": "Python 3",
   "language": "python",
   "name": "python3"
  },
  "language_info": {
   "codemirror_mode": {
    "name": "ipython",
    "version": 3
   },
   "file_extension": ".py",
   "mimetype": "text/x-python",
   "name": "python",
   "nbconvert_exporter": "python",
   "pygments_lexer": "ipython3",
   "version": "3.8.3"
  },
  "toc": {
   "base_numbering": 1,
   "nav_menu": {},
   "number_sections": false,
   "sideBar": false,
   "skip_h1_title": false,
   "title_cell": "Table of Contents",
   "title_sidebar": "Contents",
   "toc_cell": false,
   "toc_position": {},
   "toc_section_display": false,
   "toc_window_display": false
  }
 },
 "nbformat": 4,
 "nbformat_minor": 4
}
